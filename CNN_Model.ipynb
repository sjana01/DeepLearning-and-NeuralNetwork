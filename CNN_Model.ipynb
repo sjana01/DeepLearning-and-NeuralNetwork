{
  "nbformat": 4,
  "nbformat_minor": 0,
  "metadata": {
    "colab": {
      "provenance": [],
      "collapsed_sections": [],
      "toc_visible": true
    },
    "kernelspec": {
      "name": "python3",
      "display_name": "Python 3"
    },
    "language_info": {
      "name": "python"
    },
    "accelerator": "GPU"
  },
  "cells": [
    {
      "cell_type": "markdown",
      "source": [
        "#Create CNN Model and Optimize it using Keras Tuner"
      ],
      "metadata": {
        "id": "1xazQTfhdUnA"
      }
    },
    {
      "cell_type": "markdown",
      "source": [
        "##Preprocessing"
      ],
      "metadata": {
        "id": "IVXb-Wr-fje8"
      }
    },
    {
      "cell_type": "code",
      "source": [
        "!pip install keras-tuner"
      ],
      "metadata": {
        "id": "tZ0uO6TgdlQF"
      },
      "execution_count": null,
      "outputs": []
    },
    {
      "cell_type": "code",
      "source": [
        "import numpy as np\n",
        "import tensorflow as tf\n",
        "from tensorflow import keras"
      ],
      "metadata": {
        "id": "_R-l7ojnd0uu"
      },
      "execution_count": 2,
      "outputs": []
    },
    {
      "cell_type": "code",
      "source": [
        "tf.__version__"
      ],
      "metadata": {
        "colab": {
          "base_uri": "https://localhost:8080/",
          "height": 35
        },
        "id": "0MWVcxHPeACP",
        "outputId": "f0c57556-3cf8-4f45-fe06-a2e2a5ec5469"
      },
      "execution_count": 3,
      "outputs": [
        {
          "output_type": "execute_result",
          "data": {
            "text/plain": [
              "'2.8.2'"
            ],
            "application/vnd.google.colaboratory.intrinsic+json": {
              "type": "string"
            }
          },
          "metadata": {},
          "execution_count": 3
        }
      ]
    },
    {
      "cell_type": "code",
      "source": [
        "fashion_mnist = keras.datasets.fashion_mnist"
      ],
      "metadata": {
        "id": "I81GcAfheDMG"
      },
      "execution_count": 4,
      "outputs": []
    },
    {
      "cell_type": "code",
      "source": [
        "(train_images, train_labels), (test_images, test_labels) = fashion_mnist.load_data() "
      ],
      "metadata": {
        "id": "qKKeVxgseR0Y"
      },
      "execution_count": null,
      "outputs": []
    },
    {
      "cell_type": "code",
      "source": [
        "train_images = train_images/255.0\n",
        "test_images = test_images/255.0"
      ],
      "metadata": {
        "id": "WecqCzMLeeQ-"
      },
      "execution_count": 6,
      "outputs": []
    },
    {
      "cell_type": "code",
      "source": [
        "train_images[0].shape"
      ],
      "metadata": {
        "colab": {
          "base_uri": "https://localhost:8080/"
        },
        "id": "U1JaVIO_e1aW",
        "outputId": "cb66e00a-d083-4adc-bd06-9774f96b84cc"
      },
      "execution_count": 7,
      "outputs": [
        {
          "output_type": "execute_result",
          "data": {
            "text/plain": [
              "(28, 28)"
            ]
          },
          "metadata": {},
          "execution_count": 7
        }
      ]
    },
    {
      "cell_type": "code",
      "source": [
        "train_images = train_images.reshape(len(train_images),28,28,1)\n",
        "test_images = test_images.reshape(len(test_images),28,28,1)"
      ],
      "metadata": {
        "id": "BnVj8boLe_cm"
      },
      "execution_count": 8,
      "outputs": []
    },
    {
      "cell_type": "markdown",
      "source": [
        "##Building a Model"
      ],
      "metadata": {
        "id": "RN6ffW9vfpUz"
      }
    },
    {
      "cell_type": "code",
      "source": [
        "from tensorflow.python import metrics\n",
        "def build_model(hp):                                                                                    #hp is a abbr for hyper-parameter\n",
        "  model = keras.Sequential([\n",
        "      keras.layers.Conv2D(filters=hp.Int('conv_1_filter', min_value=64, max_value=128, step=16),        #number of filters will be chosen between 64 and 128 with a step of 16\n",
        "                          kernel_size=hp.Choice('conv_1_kernel', values=[3,5,7]),                       #kernel size will be chosen from the given values\n",
        "                          activation=keras.activations.relu,                                            #ReLU activation\n",
        "                          input_shape=(28,28,1)),\n",
        "\n",
        "      keras.layers.Conv2D(filters=hp.Int('conv_2_filter', min_value=32, max_value=128, step=16),\n",
        "                          kernel_size=hp.Choice('conv_2_kernel', values=[3,5]),\n",
        "                          activation=keras.activations.relu),\n",
        "\n",
        "      keras.layers.Flatten(),                                                                           #Flatten the input for the dense layers\n",
        "\n",
        "      keras.layers.Dense(\n",
        "          units=hp.Int('dense_1_units', min_value=32, max_value=128, step=16),                          #number of dense units will be chosen between 32 and 128.\n",
        "          activation=keras.activations.relu),\n",
        "\n",
        "      keras.layers.Dense(units=10, activation=keras.activations.softmax)\n",
        "  ])\n",
        "\n",
        "  model.compile(optimizer=keras.optimizers.Adam(hp.Choice('learning_rate', values=[1e-2, 1e-3, 1e-4])), #Adam optimizer with varying learning rate\n",
        "                loss=keras.losses.sparse_categorical_crossentropy,\n",
        "                metrics=['accuracy'])\n",
        "  \n",
        "  return model"
      ],
      "metadata": {
        "id": "OWN-i8d3fW-i"
      },
      "execution_count": 9,
      "outputs": []
    },
    {
      "cell_type": "code",
      "source": [
        "from keras_tuner import RandomSearch\n",
        "from keras_tuner.engine.hyperparameters import HyperParameters\n"
      ],
      "metadata": {
        "id": "S71mD0Vpi4fO"
      },
      "execution_count": 11,
      "outputs": []
    },
    {
      "cell_type": "code",
      "source": [
        "tuner_search = RandomSearch(build_model, objective='val_accuracy', max_trials=5, \n",
        "                            directory='output', project_name=\"Mnist_Fashion\")             #random search using the build model function"
      ],
      "metadata": {
        "id": "mGInrDKVkJEd"
      },
      "execution_count": 12,
      "outputs": []
    },
    {
      "cell_type": "code",
      "source": [
        "tuner_search.search(train_images, train_labels, epochs=3, validation_split=0.1)           #search for the best model"
      ],
      "metadata": {
        "colab": {
          "base_uri": "https://localhost:8080/"
        },
        "id": "mRBBp7lykpII",
        "outputId": "a349565c-6951-4519-b6ce-faf4094b9070"
      },
      "execution_count": 13,
      "outputs": [
        {
          "output_type": "stream",
          "name": "stdout",
          "text": [
            "Trial 5 Complete [00h 00m 21s]\n",
            "val_accuracy: 0.8514999747276306\n",
            "\n",
            "Best val_accuracy So Far: 0.9079999923706055\n",
            "Total elapsed time: 00h 02m 42s\n"
          ]
        }
      ]
    },
    {
      "cell_type": "code",
      "source": [
        "best_model = tuner_search.get_best_models(num_models=1)[0]                #pick the best model, can pick multiple best models if required"
      ],
      "metadata": {
        "id": "jnwMWlU7mbQK"
      },
      "execution_count": 14,
      "outputs": []
    },
    {
      "cell_type": "code",
      "source": [
        "best_model.summary()                                     "
      ],
      "metadata": {
        "colab": {
          "base_uri": "https://localhost:8080/"
        },
        "id": "dQJurA3pmtE6",
        "outputId": "445ed7e0-762c-43e1-a827-11a1453db2f5"
      },
      "execution_count": 15,
      "outputs": [
        {
          "output_type": "stream",
          "name": "stdout",
          "text": [
            "Model: \"sequential\"\n",
            "_________________________________________________________________\n",
            " Layer (type)                Output Shape              Param #   \n",
            "=================================================================\n",
            " conv2d (Conv2D)             (None, 26, 26, 96)        960       \n",
            "                                                                 \n",
            " conv2d_1 (Conv2D)           (None, 22, 22, 112)       268912    \n",
            "                                                                 \n",
            " flatten (Flatten)           (None, 54208)             0         \n",
            "                                                                 \n",
            " dense (Dense)               (None, 48)                2602032   \n",
            "                                                                 \n",
            " dense_1 (Dense)             (None, 10)                490       \n",
            "                                                                 \n",
            "=================================================================\n",
            "Total params: 2,872,394\n",
            "Trainable params: 2,872,394\n",
            "Non-trainable params: 0\n",
            "_________________________________________________________________\n"
          ]
        }
      ]
    },
    {
      "cell_type": "code",
      "source": [
        "best_model.fit(train_images, train_labels, epochs=10, \n",
        "               validation_split=0.1, initial_epoch=3)          #initial_epoch=3 means the training starts at epoch 4 as we have already trained for 3 epochs in the model selection "
      ],
      "metadata": {
        "colab": {
          "base_uri": "https://localhost:8080/"
        },
        "id": "2ELLiEeumwGw",
        "outputId": "2b3ffeb0-050b-4eff-9be2-461625954b4b"
      },
      "execution_count": 16,
      "outputs": [
        {
          "output_type": "stream",
          "name": "stdout",
          "text": [
            "Epoch 4/10\n",
            "1688/1688 [==============================] - 11s 6ms/step - loss: 0.1424 - accuracy: 0.9462 - val_loss: 0.2762 - val_accuracy: 0.9070\n",
            "Epoch 5/10\n",
            "1688/1688 [==============================] - 11s 6ms/step - loss: 0.1021 - accuracy: 0.9615 - val_loss: 0.2792 - val_accuracy: 0.9135\n",
            "Epoch 6/10\n",
            "1688/1688 [==============================] - 11s 6ms/step - loss: 0.0752 - accuracy: 0.9715 - val_loss: 0.3618 - val_accuracy: 0.9107\n",
            "Epoch 7/10\n",
            "1688/1688 [==============================] - 11s 6ms/step - loss: 0.0527 - accuracy: 0.9807 - val_loss: 0.3742 - val_accuracy: 0.9098\n",
            "Epoch 8/10\n",
            "1688/1688 [==============================] - 11s 6ms/step - loss: 0.0417 - accuracy: 0.9844 - val_loss: 0.4119 - val_accuracy: 0.9095\n",
            "Epoch 9/10\n",
            "1688/1688 [==============================] - 11s 6ms/step - loss: 0.0365 - accuracy: 0.9871 - val_loss: 0.4930 - val_accuracy: 0.9027\n",
            "Epoch 10/10\n",
            "1688/1688 [==============================] - 11s 6ms/step - loss: 0.0271 - accuracy: 0.9903 - val_loss: 0.5263 - val_accuracy: 0.9080\n"
          ]
        },
        {
          "output_type": "execute_result",
          "data": {
            "text/plain": [
              "<keras.callbacks.History at 0x7fa306504710>"
            ]
          },
          "metadata": {},
          "execution_count": 16
        }
      ]
    },
    {
      "cell_type": "markdown",
      "source": [
        "##Check Accuracy"
      ],
      "metadata": {
        "id": "-2pEMb_-qWl9"
      }
    },
    {
      "cell_type": "code",
      "source": [
        "from sklearn.metrics import accuracy_score\n",
        "y_pred_prob = best_model.predict(test_images)         #model.predict returns an array of probabilities for each image "
      ],
      "metadata": {
        "id": "yA5OVoufnGuz"
      },
      "execution_count": 23,
      "outputs": []
    },
    {
      "cell_type": "code",
      "source": [
        "y_pred = np.argmax(y_pred_prob, axis=1)               #pick the maximum probability as the prediction\n",
        "y_pred"
      ],
      "metadata": {
        "colab": {
          "base_uri": "https://localhost:8080/"
        },
        "id": "yvyzLJmGoLQ5",
        "outputId": "7bbb4918-86e3-427a-a1b5-c999cca6e6c3"
      },
      "execution_count": 24,
      "outputs": [
        {
          "output_type": "execute_result",
          "data": {
            "text/plain": [
              "array([9, 2, 1, ..., 8, 1, 5])"
            ]
          },
          "metadata": {},
          "execution_count": 24
        }
      ]
    },
    {
      "cell_type": "code",
      "source": [
        "accuracy_score(y_pred, test_labels)"
      ],
      "metadata": {
        "colab": {
          "base_uri": "https://localhost:8080/"
        },
        "id": "5X0mls9poaNf",
        "outputId": "ecce16d6-2358-4991-c975-3eb39e2fb64a"
      },
      "execution_count": 25,
      "outputs": [
        {
          "output_type": "execute_result",
          "data": {
            "text/plain": [
              "0.9063"
            ]
          },
          "metadata": {},
          "execution_count": 25
        }
      ]
    },
    {
      "cell_type": "code",
      "source": [],
      "metadata": {
        "id": "-Gfo5iyBpmUo"
      },
      "execution_count": null,
      "outputs": []
    }
  ]
}