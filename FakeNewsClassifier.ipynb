{
  "nbformat": 4,
  "nbformat_minor": 0,
  "metadata": {
    "colab": {
      "provenance": [],
      "collapsed_sections": [],
      "mount_file_id": "1YmpcVPVZCZPTFj5wGC03I18cUcI6nN_J",
      "authorship_tag": "ABX9TyObmySikfWyQ9UA2ElcYyT6",
      "include_colab_link": true
    },
    "kernelspec": {
      "name": "python3",
      "display_name": "Python 3"
    },
    "language_info": {
      "name": "python"
    },
    "accelerator": "GPU"
  },
  "cells": [
    {
      "cell_type": "markdown",
      "metadata": {
        "id": "view-in-github",
        "colab_type": "text"
      },
      "source": [
        "<a href=\"https://colab.research.google.com/github/sjana01/DeepLearning-and-NeuralNetwork/blob/master/FakeNewsClassifier.ipynb\" target=\"_parent\"><img src=\"https://colab.research.google.com/assets/colab-badge.svg\" alt=\"Open In Colab\"/></a>"
      ]
    },
    {
      "cell_type": "markdown",
      "source": [
        "#Fake News Classifier Using LSTM"
      ],
      "metadata": {
        "id": "Yu0Ye9EkIqsJ"
      }
    },
    {
      "cell_type": "markdown",
      "source": [
        "##Getting the Data"
      ],
      "metadata": {
        "id": "p47YX7odIvuP"
      }
    },
    {
      "cell_type": "code",
      "execution_count": 1,
      "metadata": {
        "id": "nkqTfie2Y2iw"
      },
      "outputs": [],
      "source": [
        "import pandas as pd\n",
        "\n",
        "train = pd.read_csv(\"/content/drive/MyDrive/Colab Notebooks/datasets/fake-news/train.csv\")\n",
        "test = pd.read_csv(\"/content/drive/MyDrive/Colab Notebooks/datasets/fake-news/test.csv\")"
      ]
    },
    {
      "cell_type": "code",
      "source": [
        "train.head()"
      ],
      "metadata": {
        "colab": {
          "base_uri": "https://localhost:8080/",
          "height": 206
        },
        "id": "Wz0xZgBwZkeW",
        "outputId": "f875a004-4afe-466c-c41e-854f2e949622"
      },
      "execution_count": 2,
      "outputs": [
        {
          "output_type": "execute_result",
          "data": {
            "text/plain": [
              "   id                                              title              author  \\\n",
              "0   0  House Dem Aide: We Didn’t Even See Comey’s Let...       Darrell Lucus   \n",
              "1   1  FLYNN: Hillary Clinton, Big Woman on Campus - ...     Daniel J. Flynn   \n",
              "2   2                  Why the Truth Might Get You Fired  Consortiumnews.com   \n",
              "3   3  15 Civilians Killed In Single US Airstrike Hav...     Jessica Purkiss   \n",
              "4   4  Iranian woman jailed for fictional unpublished...      Howard Portnoy   \n",
              "\n",
              "                                                text  label  \n",
              "0  House Dem Aide: We Didn’t Even See Comey’s Let...      1  \n",
              "1  Ever get the feeling your life circles the rou...      0  \n",
              "2  Why the Truth Might Get You Fired October 29, ...      1  \n",
              "3  Videos 15 Civilians Killed In Single US Airstr...      1  \n",
              "4  Print \\nAn Iranian woman has been sentenced to...      1  "
            ],
            "text/html": [
              "\n",
              "  <div id=\"df-e6537713-35c7-4cfa-90dc-7b4a42bed4bf\">\n",
              "    <div class=\"colab-df-container\">\n",
              "      <div>\n",
              "<style scoped>\n",
              "    .dataframe tbody tr th:only-of-type {\n",
              "        vertical-align: middle;\n",
              "    }\n",
              "\n",
              "    .dataframe tbody tr th {\n",
              "        vertical-align: top;\n",
              "    }\n",
              "\n",
              "    .dataframe thead th {\n",
              "        text-align: right;\n",
              "    }\n",
              "</style>\n",
              "<table border=\"1\" class=\"dataframe\">\n",
              "  <thead>\n",
              "    <tr style=\"text-align: right;\">\n",
              "      <th></th>\n",
              "      <th>id</th>\n",
              "      <th>title</th>\n",
              "      <th>author</th>\n",
              "      <th>text</th>\n",
              "      <th>label</th>\n",
              "    </tr>\n",
              "  </thead>\n",
              "  <tbody>\n",
              "    <tr>\n",
              "      <th>0</th>\n",
              "      <td>0</td>\n",
              "      <td>House Dem Aide: We Didn’t Even See Comey’s Let...</td>\n",
              "      <td>Darrell Lucus</td>\n",
              "      <td>House Dem Aide: We Didn’t Even See Comey’s Let...</td>\n",
              "      <td>1</td>\n",
              "    </tr>\n",
              "    <tr>\n",
              "      <th>1</th>\n",
              "      <td>1</td>\n",
              "      <td>FLYNN: Hillary Clinton, Big Woman on Campus - ...</td>\n",
              "      <td>Daniel J. Flynn</td>\n",
              "      <td>Ever get the feeling your life circles the rou...</td>\n",
              "      <td>0</td>\n",
              "    </tr>\n",
              "    <tr>\n",
              "      <th>2</th>\n",
              "      <td>2</td>\n",
              "      <td>Why the Truth Might Get You Fired</td>\n",
              "      <td>Consortiumnews.com</td>\n",
              "      <td>Why the Truth Might Get You Fired October 29, ...</td>\n",
              "      <td>1</td>\n",
              "    </tr>\n",
              "    <tr>\n",
              "      <th>3</th>\n",
              "      <td>3</td>\n",
              "      <td>15 Civilians Killed In Single US Airstrike Hav...</td>\n",
              "      <td>Jessica Purkiss</td>\n",
              "      <td>Videos 15 Civilians Killed In Single US Airstr...</td>\n",
              "      <td>1</td>\n",
              "    </tr>\n",
              "    <tr>\n",
              "      <th>4</th>\n",
              "      <td>4</td>\n",
              "      <td>Iranian woman jailed for fictional unpublished...</td>\n",
              "      <td>Howard Portnoy</td>\n",
              "      <td>Print \\nAn Iranian woman has been sentenced to...</td>\n",
              "      <td>1</td>\n",
              "    </tr>\n",
              "  </tbody>\n",
              "</table>\n",
              "</div>\n",
              "      <button class=\"colab-df-convert\" onclick=\"convertToInteractive('df-e6537713-35c7-4cfa-90dc-7b4a42bed4bf')\"\n",
              "              title=\"Convert this dataframe to an interactive table.\"\n",
              "              style=\"display:none;\">\n",
              "        \n",
              "  <svg xmlns=\"http://www.w3.org/2000/svg\" height=\"24px\"viewBox=\"0 0 24 24\"\n",
              "       width=\"24px\">\n",
              "    <path d=\"M0 0h24v24H0V0z\" fill=\"none\"/>\n",
              "    <path d=\"M18.56 5.44l.94 2.06.94-2.06 2.06-.94-2.06-.94-.94-2.06-.94 2.06-2.06.94zm-11 1L8.5 8.5l.94-2.06 2.06-.94-2.06-.94L8.5 2.5l-.94 2.06-2.06.94zm10 10l.94 2.06.94-2.06 2.06-.94-2.06-.94-.94-2.06-.94 2.06-2.06.94z\"/><path d=\"M17.41 7.96l-1.37-1.37c-.4-.4-.92-.59-1.43-.59-.52 0-1.04.2-1.43.59L10.3 9.45l-7.72 7.72c-.78.78-.78 2.05 0 2.83L4 21.41c.39.39.9.59 1.41.59.51 0 1.02-.2 1.41-.59l7.78-7.78 2.81-2.81c.8-.78.8-2.07 0-2.86zM5.41 20L4 18.59l7.72-7.72 1.47 1.35L5.41 20z\"/>\n",
              "  </svg>\n",
              "      </button>\n",
              "      \n",
              "  <style>\n",
              "    .colab-df-container {\n",
              "      display:flex;\n",
              "      flex-wrap:wrap;\n",
              "      gap: 12px;\n",
              "    }\n",
              "\n",
              "    .colab-df-convert {\n",
              "      background-color: #E8F0FE;\n",
              "      border: none;\n",
              "      border-radius: 50%;\n",
              "      cursor: pointer;\n",
              "      display: none;\n",
              "      fill: #1967D2;\n",
              "      height: 32px;\n",
              "      padding: 0 0 0 0;\n",
              "      width: 32px;\n",
              "    }\n",
              "\n",
              "    .colab-df-convert:hover {\n",
              "      background-color: #E2EBFA;\n",
              "      box-shadow: 0px 1px 2px rgba(60, 64, 67, 0.3), 0px 1px 3px 1px rgba(60, 64, 67, 0.15);\n",
              "      fill: #174EA6;\n",
              "    }\n",
              "\n",
              "    [theme=dark] .colab-df-convert {\n",
              "      background-color: #3B4455;\n",
              "      fill: #D2E3FC;\n",
              "    }\n",
              "\n",
              "    [theme=dark] .colab-df-convert:hover {\n",
              "      background-color: #434B5C;\n",
              "      box-shadow: 0px 1px 3px 1px rgba(0, 0, 0, 0.15);\n",
              "      filter: drop-shadow(0px 1px 2px rgba(0, 0, 0, 0.3));\n",
              "      fill: #FFFFFF;\n",
              "    }\n",
              "  </style>\n",
              "\n",
              "      <script>\n",
              "        const buttonEl =\n",
              "          document.querySelector('#df-e6537713-35c7-4cfa-90dc-7b4a42bed4bf button.colab-df-convert');\n",
              "        buttonEl.style.display =\n",
              "          google.colab.kernel.accessAllowed ? 'block' : 'none';\n",
              "\n",
              "        async function convertToInteractive(key) {\n",
              "          const element = document.querySelector('#df-e6537713-35c7-4cfa-90dc-7b4a42bed4bf');\n",
              "          const dataTable =\n",
              "            await google.colab.kernel.invokeFunction('convertToInteractive',\n",
              "                                                     [key], {});\n",
              "          if (!dataTable) return;\n",
              "\n",
              "          const docLinkHtml = 'Like what you see? Visit the ' +\n",
              "            '<a target=\"_blank\" href=https://colab.research.google.com/notebooks/data_table.ipynb>data table notebook</a>'\n",
              "            + ' to learn more about interactive tables.';\n",
              "          element.innerHTML = '';\n",
              "          dataTable['output_type'] = 'display_data';\n",
              "          await google.colab.output.renderOutput(dataTable, element);\n",
              "          const docLink = document.createElement('div');\n",
              "          docLink.innerHTML = docLinkHtml;\n",
              "          element.appendChild(docLink);\n",
              "        }\n",
              "      </script>\n",
              "    </div>\n",
              "  </div>\n",
              "  "
            ]
          },
          "metadata": {},
          "execution_count": 2
        }
      ]
    },
    {
      "cell_type": "code",
      "source": [
        "train = train.dropna()\n",
        "test = test.dropna()"
      ],
      "metadata": {
        "id": "R9Z9E2ArZuOh"
      },
      "execution_count": 3,
      "outputs": []
    },
    {
      "cell_type": "code",
      "source": [
        "X_train = train.drop(['label'], axis=1)\n",
        "X_test = test\n",
        "\n",
        "y_train = train['label']"
      ],
      "metadata": {
        "id": "EJmdyPdzZ7tq"
      },
      "execution_count": 4,
      "outputs": []
    },
    {
      "cell_type": "code",
      "source": [
        "X_train.shape, y_train.shape "
      ],
      "metadata": {
        "colab": {
          "base_uri": "https://localhost:8080/"
        },
        "id": "-UNVWVSYaVFU",
        "outputId": "b442c962-db44-4cef-9d6a-3d1aed905e56"
      },
      "execution_count": 5,
      "outputs": [
        {
          "output_type": "execute_result",
          "data": {
            "text/plain": [
              "((18285, 4), (18285,))"
            ]
          },
          "metadata": {},
          "execution_count": 5
        }
      ]
    },
    {
      "cell_type": "code",
      "source": [
        "voc_size = 5000"
      ],
      "metadata": {
        "id": "tyGvLaqlbUUh"
      },
      "execution_count": 6,
      "outputs": []
    },
    {
      "cell_type": "markdown",
      "source": [
        "##Onehot Representation"
      ],
      "metadata": {
        "id": "lGz9tp9cJBF3"
      }
    },
    {
      "cell_type": "code",
      "source": [
        "from tensorflow import keras\n",
        "from keras.layers import Embedding, LSTM, Dense\n",
        "from keras.preprocessing.sequence import pad_sequences\n",
        "from keras.models import Sequential\n",
        "from keras.preprocessing.text import one_hot, text_to_word_sequence\n",
        "\n",
        "import nltk,re\n",
        "from nltk.corpus import stopwords"
      ],
      "metadata": {
        "id": "TDbgDcTCJf-u"
      },
      "execution_count": 7,
      "outputs": []
    },
    {
      "cell_type": "code",
      "source": [
        "messages = X_train.copy()\n",
        "messages.reset_index(inplace=True)"
      ],
      "metadata": {
        "id": "IfEExYwYJyf2"
      },
      "execution_count": 8,
      "outputs": []
    },
    {
      "cell_type": "code",
      "source": [
        "nltk.download('stopwords')"
      ],
      "metadata": {
        "colab": {
          "base_uri": "https://localhost:8080/"
        },
        "id": "eAMW5EL4KEBG",
        "outputId": "6c5c05fb-25a2-414c-f265-6c3afc460bb1"
      },
      "execution_count": 9,
      "outputs": [
        {
          "output_type": "stream",
          "name": "stderr",
          "text": [
            "[nltk_data] Downloading package stopwords to /root/nltk_data...\n",
            "[nltk_data]   Package stopwords is already up-to-date!\n"
          ]
        },
        {
          "output_type": "execute_result",
          "data": {
            "text/plain": [
              "True"
            ]
          },
          "metadata": {},
          "execution_count": 9
        }
      ]
    },
    {
      "cell_type": "code",
      "source": [
        "#Data Preprocessing\n",
        "from nltk.stem.porter import PorterStemmer\n",
        "ps = PorterStemmer()\n",
        "corpus_title = []\n",
        "for i in range(0,len(messages)):\n",
        "  review = re.sub(\"[^a-zA-Z]\", \" \", messages['title'][i])\n",
        "  review = review.lower()\n",
        "  review = review.split()\n",
        "  review = [ps.stem(word) for word in review if not word in stopwords.words('english')]\n",
        "  review = ' '.join(review)\n",
        "  corpus_title.append(review)"
      ],
      "metadata": {
        "id": "OjUlTPgTKHKm"
      },
      "execution_count": 10,
      "outputs": []
    },
    {
      "cell_type": "code",
      "source": [
        "onehot_title = [one_hot(words, voc_size) for words in corpus_title]\n",
        "onehot_title[0]"
      ],
      "metadata": {
        "colab": {
          "base_uri": "https://localhost:8080/"
        },
        "id": "_RwPI9dqNuwD",
        "outputId": "07147392-56ed-47df-828b-7535c5e5cbb9"
      },
      "execution_count": 11,
      "outputs": [
        {
          "output_type": "execute_result",
          "data": {
            "text/plain": [
              "[2119, 3222, 643, 2237, 2302, 4169, 4921, 1002, 1448, 4137]"
            ]
          },
          "metadata": {},
          "execution_count": 11
        }
      ]
    },
    {
      "cell_type": "code",
      "source": [
        "text_to_word_sequence(messages['title'][0])"
      ],
      "metadata": {
        "colab": {
          "base_uri": "https://localhost:8080/"
        },
        "id": "-y1OQm8YmAdQ",
        "outputId": "1004134e-06ab-440e-c23e-601a663d4e2a"
      },
      "execution_count": 12,
      "outputs": [
        {
          "output_type": "execute_result",
          "data": {
            "text/plain": [
              "['house',\n",
              " 'dem',\n",
              " 'aide',\n",
              " 'we',\n",
              " 'didn’t',\n",
              " 'even',\n",
              " 'see',\n",
              " 'comey’s',\n",
              " 'letter',\n",
              " 'until',\n",
              " 'jason',\n",
              " 'chaffetz',\n",
              " 'tweeted',\n",
              " 'it']"
            ]
          },
          "metadata": {},
          "execution_count": 12
        }
      ]
    },
    {
      "cell_type": "code",
      "source": [
        "onehot_text = [one_hot(messages['text'][i], voc_size, filters='!\"#$%&()*+,-./:;<=>?@[\\\\]^_`{|}~\\t\\n') for i in range(0, len(messages))]"
      ],
      "metadata": {
        "id": "FPA9R0CklTqV"
      },
      "execution_count": 13,
      "outputs": []
    },
    {
      "cell_type": "markdown",
      "source": [
        "##Embedding Representation (with only title)"
      ],
      "metadata": {
        "id": "X2dqLfZYkRtN"
      }
    },
    {
      "cell_type": "code",
      "source": [
        "sent_length = 20\n",
        "embedded_title = pad_sequences(onehot_title, padding=\"post\", maxlen=sent_length)"
      ],
      "metadata": {
        "id": "LoXdjfZnkOpT"
      },
      "execution_count": 14,
      "outputs": []
    },
    {
      "cell_type": "code",
      "source": [
        "#creating model\n",
        "emb_vec_features = 40\n",
        "model = Sequential()\n",
        "model.add(Embedding(voc_size, emb_vec_features, input_length=sent_length))\n",
        "model.add(LSTM(100))\n",
        "model.add(Dense(1, activation='sigmoid'))\n",
        "model.compile(loss='binary_crossentropy', optimizer='adam', metrics=['accuracy'])\n",
        "print(model.summary())"
      ],
      "metadata": {
        "colab": {
          "base_uri": "https://localhost:8080/"
        },
        "id": "UmU_WAHHn0MH",
        "outputId": "351d80a7-e117-4155-8422-25ddde27fa25"
      },
      "execution_count": 15,
      "outputs": [
        {
          "output_type": "stream",
          "name": "stdout",
          "text": [
            "Model: \"sequential\"\n",
            "_________________________________________________________________\n",
            " Layer (type)                Output Shape              Param #   \n",
            "=================================================================\n",
            " embedding (Embedding)       (None, 20, 40)            200000    \n",
            "                                                                 \n",
            " lstm (LSTM)                 (None, 100)               56400     \n",
            "                                                                 \n",
            " dense (Dense)               (None, 1)                 101       \n",
            "                                                                 \n",
            "=================================================================\n",
            "Total params: 256,501\n",
            "Trainable params: 256,501\n",
            "Non-trainable params: 0\n",
            "_________________________________________________________________\n",
            "None\n"
          ]
        }
      ]
    },
    {
      "cell_type": "code",
      "source": [
        "import numpy as np\n",
        "X_title = np.array(embedded_title)\n",
        "y_title = np.array(y_train)"
      ],
      "metadata": {
        "id": "f9Dk1UQLos9Q"
      },
      "execution_count": 16,
      "outputs": []
    },
    {
      "cell_type": "code",
      "source": [
        "X_title.shape, y_title.shape"
      ],
      "metadata": {
        "colab": {
          "base_uri": "https://localhost:8080/"
        },
        "id": "UI412SwfpTXP",
        "outputId": "9f1a1d83-dd96-45a3-d3a9-5be947d279ba"
      },
      "execution_count": 17,
      "outputs": [
        {
          "output_type": "execute_result",
          "data": {
            "text/plain": [
              "((18285, 20), (18285,))"
            ]
          },
          "metadata": {},
          "execution_count": 17
        }
      ]
    },
    {
      "cell_type": "markdown",
      "source": [
        "##Model Training"
      ],
      "metadata": {
        "id": "HHDnv3Empbf-"
      }
    },
    {
      "cell_type": "code",
      "source": [
        "model.fit(X_title, y_title, validation_split=0.2, epochs=10, batch_size=64)"
      ],
      "metadata": {
        "colab": {
          "base_uri": "https://localhost:8080/"
        },
        "id": "VqYNoe_0pXBG",
        "outputId": "86b1667c-de0f-4da7-98d7-c19d755683d6"
      },
      "execution_count": 18,
      "outputs": [
        {
          "output_type": "stream",
          "name": "stdout",
          "text": [
            "Epoch 1/10\n",
            "229/229 [==============================] - 8s 9ms/step - loss: 0.2854 - accuracy: 0.8622 - val_loss: 0.1932 - val_accuracy: 0.9237\n",
            "Epoch 2/10\n",
            "229/229 [==============================] - 1s 7ms/step - loss: 0.1379 - accuracy: 0.9498 - val_loss: 0.1947 - val_accuracy: 0.9223\n",
            "Epoch 3/10\n",
            "229/229 [==============================] - 2s 7ms/step - loss: 0.1055 - accuracy: 0.9623 - val_loss: 0.2143 - val_accuracy: 0.9139\n",
            "Epoch 4/10\n",
            "229/229 [==============================] - 1s 6ms/step - loss: 0.0823 - accuracy: 0.9706 - val_loss: 0.2435 - val_accuracy: 0.9221\n",
            "Epoch 5/10\n",
            "229/229 [==============================] - 1s 6ms/step - loss: 0.0615 - accuracy: 0.9774 - val_loss: 0.2872 - val_accuracy: 0.9139\n",
            "Epoch 6/10\n",
            "229/229 [==============================] - 1s 6ms/step - loss: 0.0483 - accuracy: 0.9837 - val_loss: 0.3114 - val_accuracy: 0.9106\n",
            "Epoch 7/10\n",
            "229/229 [==============================] - 2s 7ms/step - loss: 0.0356 - accuracy: 0.9889 - val_loss: 0.3113 - val_accuracy: 0.9226\n",
            "Epoch 8/10\n",
            "229/229 [==============================] - 2s 7ms/step - loss: 0.0304 - accuracy: 0.9906 - val_loss: 0.3702 - val_accuracy: 0.9130\n",
            "Epoch 9/10\n",
            "229/229 [==============================] - 2s 7ms/step - loss: 0.0243 - accuracy: 0.9932 - val_loss: 0.4303 - val_accuracy: 0.9136\n",
            "Epoch 10/10\n",
            "229/229 [==============================] - 2s 7ms/step - loss: 0.0218 - accuracy: 0.9940 - val_loss: 0.4978 - val_accuracy: 0.9081\n"
          ]
        },
        {
          "output_type": "execute_result",
          "data": {
            "text/plain": [
              "<keras.callbacks.History at 0x7f588c1d4a10>"
            ]
          },
          "metadata": {},
          "execution_count": 18
        }
      ]
    },
    {
      "cell_type": "markdown",
      "source": [
        "We are getting **99.4**% training accuracy on and **92.2**% validation accuracy on the best epoch.  "
      ],
      "metadata": {
        "id": "PBv1EsnoreVa"
      }
    },
    {
      "cell_type": "markdown",
      "source": [
        "##Adding Dropout Layers"
      ],
      "metadata": {
        "id": "aubrS1JgqS6b"
      }
    },
    {
      "cell_type": "code",
      "source": [
        "from keras.layers import Dropout\n",
        "##creating model with dropout\n",
        "emb_vec_features = 40\n",
        "model = Sequential()\n",
        "model.add(Embedding(voc_size, emb_vec_features, input_length=sent_length))\n",
        "model.add(Dropout(0.3))\n",
        "model.add(LSTM(100))\n",
        "model.add(Dropout(0.3))\n",
        "model.add(Dense(1, activation='sigmoid'))\n",
        "model.compile(loss='binary_crossentropy', optimizer='adam', metrics=['accuracy'])\n",
        "print(model.summary())"
      ],
      "metadata": {
        "colab": {
          "base_uri": "https://localhost:8080/"
        },
        "id": "2E5tKxbIqQf0",
        "outputId": "aa3ebc5c-cfa1-4155-ad35-3a906b5f54df"
      },
      "execution_count": 19,
      "outputs": [
        {
          "output_type": "stream",
          "name": "stdout",
          "text": [
            "Model: \"sequential_1\"\n",
            "_________________________________________________________________\n",
            " Layer (type)                Output Shape              Param #   \n",
            "=================================================================\n",
            " embedding_1 (Embedding)     (None, 20, 40)            200000    \n",
            "                                                                 \n",
            " dropout (Dropout)           (None, 20, 40)            0         \n",
            "                                                                 \n",
            " lstm_1 (LSTM)               (None, 100)               56400     \n",
            "                                                                 \n",
            " dropout_1 (Dropout)         (None, 100)               0         \n",
            "                                                                 \n",
            " dense_1 (Dense)             (None, 1)                 101       \n",
            "                                                                 \n",
            "=================================================================\n",
            "Total params: 256,501\n",
            "Trainable params: 256,501\n",
            "Non-trainable params: 0\n",
            "_________________________________________________________________\n",
            "None\n"
          ]
        }
      ]
    },
    {
      "cell_type": "code",
      "source": [
        "model.fit(X_title, y_title, validation_split=0.2, epochs=10, batch_size=64)"
      ],
      "metadata": {
        "colab": {
          "base_uri": "https://localhost:8080/"
        },
        "id": "WAnfaCqUrZdt",
        "outputId": "2ecbc492-6af4-4065-c60f-6e0778edbaca"
      },
      "execution_count": 20,
      "outputs": [
        {
          "output_type": "stream",
          "name": "stdout",
          "text": [
            "Epoch 1/10\n",
            "229/229 [==============================] - 4s 9ms/step - loss: 0.2975 - accuracy: 0.8584 - val_loss: 0.1909 - val_accuracy: 0.9232\n",
            "Epoch 2/10\n",
            "229/229 [==============================] - 2s 7ms/step - loss: 0.1432 - accuracy: 0.9459 - val_loss: 0.1912 - val_accuracy: 0.9286\n",
            "Epoch 3/10\n",
            "229/229 [==============================] - 2s 7ms/step - loss: 0.1047 - accuracy: 0.9599 - val_loss: 0.2183 - val_accuracy: 0.9229\n",
            "Epoch 4/10\n",
            "229/229 [==============================] - 2s 7ms/step - loss: 0.0844 - accuracy: 0.9709 - val_loss: 0.2279 - val_accuracy: 0.9262\n",
            "Epoch 5/10\n",
            "229/229 [==============================] - 2s 10ms/step - loss: 0.0652 - accuracy: 0.9774 - val_loss: 0.2638 - val_accuracy: 0.9188\n",
            "Epoch 6/10\n",
            "229/229 [==============================] - 2s 8ms/step - loss: 0.0532 - accuracy: 0.9817 - val_loss: 0.2375 - val_accuracy: 0.9199\n",
            "Epoch 7/10\n",
            "229/229 [==============================] - 2s 7ms/step - loss: 0.0420 - accuracy: 0.9857 - val_loss: 0.2738 - val_accuracy: 0.9212\n",
            "Epoch 8/10\n",
            "229/229 [==============================] - 1s 6ms/step - loss: 0.0378 - accuracy: 0.9871 - val_loss: 0.3193 - val_accuracy: 0.9223\n",
            "Epoch 9/10\n",
            "229/229 [==============================] - 1s 6ms/step - loss: 0.0309 - accuracy: 0.9897 - val_loss: 0.3707 - val_accuracy: 0.9207\n",
            "Epoch 10/10\n",
            "229/229 [==============================] - 2s 7ms/step - loss: 0.0276 - accuracy: 0.9915 - val_loss: 0.3780 - val_accuracy: 0.9092\n"
          ]
        },
        {
          "output_type": "execute_result",
          "data": {
            "text/plain": [
              "<keras.callbacks.History at 0x7f588c0cdd90>"
            ]
          },
          "metadata": {},
          "execution_count": 20
        }
      ]
    },
    {
      "cell_type": "markdown",
      "source": [
        "By adding dropout layers we get **92.86**% validation accuracy on best epoch."
      ],
      "metadata": {
        "id": "m0XcJISJr_Bz"
      }
    },
    {
      "cell_type": "markdown",
      "source": [
        "##Embedding Representation (with text)"
      ],
      "metadata": {
        "id": "xrnahrdusVPx"
      }
    },
    {
      "cell_type": "code",
      "source": [
        "import matplotlib.pyplot as plt\n",
        "\n",
        "plt.plot([len(x) for x in onehot_text])\n"
      ],
      "metadata": {
        "colab": {
          "base_uri": "https://localhost:8080/",
          "height": 282
        },
        "id": "PuP4EvRvsjyh",
        "outputId": "ec6ffdaf-c75c-402e-aa2f-4c8f913b23ab"
      },
      "execution_count": 21,
      "outputs": [
        {
          "output_type": "execute_result",
          "data": {
            "text/plain": [
              "[<matplotlib.lines.Line2D at 0x7f5886eeb050>]"
            ]
          },
          "metadata": {},
          "execution_count": 21
        },
        {
          "output_type": "display_data",
          "data": {
            "text/plain": [
              "<Figure size 432x288 with 1 Axes>"
            ],
            "image/png": "[encoded data removed]"
          },
          "metadata": {
            "needs_background": "light"
          }
        }
      ]
    },
    {
      "cell_type": "code",
      "source": [
        "text_length = 25000\n",
        "embedded_text = pad_sequences(onehot_text, padding=\"post\", maxlen=text_length)"
      ],
      "metadata": {
        "id": "BSt1b_Mpr-fK"
      },
      "execution_count": 22,
      "outputs": []
    },
    {
      "cell_type": "code",
      "source": [
        "#creating model\n",
        "emb_vec_features = 50\n",
        "model = Sequential()\n",
        "model.add(Embedding(voc_size, emb_vec_features, input_length=text_length))\n",
        "model.add(Dropout(0.3))\n",
        "model.add(LSTM(100))\n",
        "model.add(Dropout(0.3))\n",
        "model.add(Dense(1, activation='sigmoid'))\n",
        "model.compile(loss='binary_crossentropy', optimizer='adam', metrics=['accuracy'])\n",
        "print(model.summary())"
      ],
      "metadata": {
        "colab": {
          "base_uri": "https://localhost:8080/"
        },
        "id": "VQNT62ZYstIa",
        "outputId": "bd1447d6-4f60-4e35-d2cd-d3dfa548c7d2"
      },
      "execution_count": 26,
      "outputs": [
        {
          "output_type": "stream",
          "name": "stdout",
          "text": [
            "Model: \"sequential_3\"\n",
            "_________________________________________________________________\n",
            " Layer (type)                Output Shape              Param #   \n",
            "=================================================================\n",
            " embedding_3 (Embedding)     (None, 25000, 50)         250000    \n",
            "                                                                 \n",
            " dropout_5 (Dropout)         (None, 25000, 50)         0         \n",
            "                                                                 \n",
            " lstm_3 (LSTM)               (None, 100)               60400     \n",
            "                                                                 \n",
            " dropout_6 (Dropout)         (None, 100)               0         \n",
            "                                                                 \n",
            " dense_4 (Dense)             (None, 1)                 101       \n",
            "                                                                 \n",
            "=================================================================\n",
            "Total params: 310,501\n",
            "Trainable params: 310,501\n",
            "Non-trainable params: 0\n",
            "_________________________________________________________________\n",
            "None\n"
          ]
        }
      ]
    },
    {
      "cell_type": "code",
      "source": [
        "X_text = np.array(embedded_text)\n",
        "y_text = np.array(y_train)"
      ],
      "metadata": {
        "id": "s4iyQjQJttjo"
      },
      "execution_count": 24,
      "outputs": []
    },
    {
      "cell_type": "code",
      "source": [
        "##model.fit(X_text, y_text, validation_split=0.2, epochs=10, batch_size=64)  \n",
        "\n",
        "##need to remove stopwords before traing otherwise will not get good accuracy. removing stopwords with keras is not possible right now, have to use NLTK and will take a long long time!!!"
      ],
      "metadata": {
        "id": "llTLH1udtv1p"
      },
      "execution_count": 31,
      "outputs": []
    },
    {
      "cell_type": "code",
      "source": [],
      "metadata": {
        "id": "bJ1G_Q4ft6FC"
      },
      "execution_count": null,
      "outputs": []
    }
  ]
}